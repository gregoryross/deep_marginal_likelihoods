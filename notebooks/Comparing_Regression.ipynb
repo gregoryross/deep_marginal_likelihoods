{
 "cells": [
  {
   "cell_type": "markdown",
   "metadata": {},
   "source": [
    "# Comparing my fitted NIG parameters to other code"
   ]
  },
  {
   "cell_type": "code",
   "execution_count": 1,
   "metadata": {},
   "outputs": [],
   "source": [
    "import numpy as np\n",
    "from scipy import stats\n",
    "\n",
    "import matplotlib.pylab as plt\n",
    "%matplotlib inline\n",
    "\n",
    "from time import time\n",
    "\n",
    "import sys\n",
    "sys.path.append('../')\n",
    "from bayes_linear_regression import norm_inv_gamma as nig\n",
    "\n",
    "from scipy.stats import invgamma"
   ]
  },
  {
   "cell_type": "markdown",
   "metadata": {},
   "source": [
    "## Other NIG model from https://github.com/tonyduan/conjugate-bayes"
   ]
  },
  {
   "cell_type": "code",
   "execution_count": 2,
   "metadata": {},
   "outputs": [],
   "source": [
    "from models import NIGLinearRegression"
   ]
  },
  {
   "cell_type": "markdown",
   "metadata": {},
   "source": [
    "### Fitting polynomials"
   ]
  },
  {
   "cell_type": "code",
   "execution_count": 5,
   "metadata": {},
   "outputs": [
    {
     "data": {
      "image/png": "[encoded data removed]",
      "text/plain": [
       "<Figure size 432x288 with 1 Axes>"
      ]
     },
     "metadata": {
      "needs_background": "light"
     },
     "output_type": "display_data"
    }
   ],
   "source": [
    "n = 100\n",
    "\n",
    "A = 1\n",
    "B = 3\n",
    "\n",
    "sigma2 = invgamma.rvs(A, loc=0, scale=B, size=1) \n",
    "#sigma2 = 0.4\n",
    "noise = np.random.normal(loc=0, scale=np.sqrt(sigma2), size=n)\n",
    "noise = np.reshape(noise, (n, 1))\n",
    "\n",
    "a = -5\n",
    "b = 3\n",
    "c = 1\n",
    "params = (sigma2, a,b,c)\n",
    "\n",
    "mu = n\n",
    "X = np.random.normal(loc=0, scale=1.5, size=n).reshape((n, 1))\n",
    "Y = a * X + b * X**2 + c * X**3 + noise\n",
    "\n",
    "plt.scatter(X,Y)\n",
    "plt.show()"
   ]
  },
  {
   "cell_type": "markdown",
   "metadata": {},
   "source": [
    "### My model"
   ]
  },
  {
   "cell_type": "code",
   "execution_count": 6,
   "metadata": {},
   "outputs": [],
   "source": [
    "explanatory = np.hstack((X, X**2, X**3))\n",
    "#explanatory = np.hstack((X, X**2))\n",
    "cov = np.eye(3)\n",
    "mu = np.zeros(shape=(3, 1)) # nvars plus 1 because first 'mu' is the intercept\n",
    "\n",
    "# Instantiate the model\n",
    "prior = nig.NormalInverseGamma(a=A, b=B, mu=mu, cov=cov)\n",
    "# Fit the model\n",
    "post = nig.PostNormalInverseGamma(prior, explanatory, Y)"
   ]
  },
  {
   "cell_type": "code",
   "execution_count": 7,
   "metadata": {},
   "outputs": [
    {
     "name": "stdout",
     "output_type": "stream",
     "text": [
      "Sigma2 mean =  1.3658567347036297\n",
      "Beta means =  [-5.04555087  3.04694393  1.00929892]\n"
     ]
    }
   ],
   "source": [
    "print('Sigma2 mean = ', post.b / (post.a - 1))\n",
    "print('Beta means = ',post.mu.flatten())"
   ]
  },
  {
   "cell_type": "markdown",
   "metadata": {},
   "source": [
    "### Other model"
   ]
  },
  {
   "cell_type": "code",
   "execution_count": 8,
   "metadata": {},
   "outputs": [],
   "source": [
    "model = NIGLinearRegression(mu=mu.flatten(), v=cov, a=A, b=B)\n",
    "model.fit(explanatory, Y.flatten())"
   ]
  },
  {
   "cell_type": "code",
   "execution_count": 9,
   "metadata": {},
   "outputs": [
    {
     "name": "stdout",
     "output_type": "stream",
     "text": [
      "Sigma2 mean =  1.365856734703626\n",
      "Beta means =  [-5.04555087  3.04694393  1.00929892]\n"
     ]
    }
   ],
   "source": [
    "sigma2 = model.get_marginal_sigma2()\n",
    "beta = model.get_conditional_beta(sigma2.mean())\n",
    "print('Sigma2 mean = ', sigma2.mean())\n",
    "print('Beta means = ', beta.mean)"
   ]
  },
  {
   "cell_type": "markdown",
   "metadata": {},
   "source": [
    "They match up extremely well"
   ]
  },
  {
   "cell_type": "code",
   "execution_count": null,
   "metadata": {},
   "outputs": [],
   "source": []
  }
 ],
 "metadata": {
  "kernelspec": {
   "display_name": "Python 3",
   "language": "python",
   "name": "python3"
  },
  "language_info": {
   "codemirror_mode": {
    "name": "ipython",
    "version": 3
   },
   "file_extension": ".py",
   "mimetype": "text/x-python",
   "name": "python",
   "nbconvert_exporter": "python",
   "pygments_lexer": "ipython3",
   "version": "3.9.0"
  }
 },
 "nbformat": 4,
 "nbformat_minor": 4
}
